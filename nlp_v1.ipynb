{
 "cells": [
  {
   "cell_type": "code",
   "execution_count": 1,
   "metadata": {},
   "outputs": [],
   "source": [
    "import numpy as np\n",
    "import pandas as pd"
   ]
  },
  {
   "cell_type": "code",
   "execution_count": 2,
   "metadata": {},
   "outputs": [],
   "source": [
    "fileList = ['0018.txt', '0023.txt', '0025.txt', '0026.txt', '0033.txt', '0036.txt']"
   ]
  },
  {
   "cell_type": "code",
   "execution_count": 3,
   "metadata": {},
   "outputs": [],
   "source": [
    "df = pd.DataFrame()"
   ]
  },
  {
   "cell_type": "code",
   "execution_count": 4,
   "metadata": {},
   "outputs": [],
   "source": [
    "df18 = pd.read_csv(fileList[0], sep=';')\n",
    "df18 = df18[['Cusip', 'SecurityDescription', 'WTType']]"
   ]
  },
  {
   "cell_type": "code",
   "execution_count": 5,
   "metadata": {},
   "outputs": [
    {
     "name": "stderr",
     "output_type": "stream",
     "text": [
      "/home/ruilong96/anaconda3/lib/python3.7/site-packages/IPython/core/interactiveshell.py:3063: DtypeWarning: Columns (16,23,28,29,32,34) have mixed types.Specify dtype option on import or set low_memory=False.\n",
      "  interactivity=interactivity, compiler=compiler, result=result)\n"
     ]
    }
   ],
   "source": [
    "df23 = pd.read_csv(fileList[1], sep=';')"
   ]
  },
  {
   "cell_type": "code",
   "execution_count": 6,
   "metadata": {},
   "outputs": [],
   "source": [
    "df23.loc[:,['Securitydescriptionline1', 'Securitydescriptionline2', 'Securitydescriptionline3']] = df23[['Securitydescriptionline1', 'Securitydescriptionline2', 'Securitydescriptionline3']].fillna('')"
   ]
  },
  {
   "cell_type": "code",
   "execution_count": 7,
   "metadata": {},
   "outputs": [],
   "source": [
    "df23['SecurityDescription'] = df23[['Securitydescriptionline1', 'Securitydescriptionline2', 'Securitydescriptionline3']].apply(lambda row: '_'.join(row.values.astype(str)), axis=1)"
   ]
  },
  {
   "cell_type": "code",
   "execution_count": 8,
   "metadata": {},
   "outputs": [],
   "source": [
    "df23 = df23[['SecurityDescription', 'CUSIP', 'WTType']]\n",
    "df23.columns = ['SecurityDescription', 'Cusip', 'WTType']"
   ]
  },
  {
   "cell_type": "code",
   "execution_count": 9,
   "metadata": {},
   "outputs": [],
   "source": [
    "df25 = pd.read_csv(fileList[2], sep=';')"
   ]
  },
  {
   "cell_type": "code",
   "execution_count": 10,
   "metadata": {},
   "outputs": [],
   "source": [
    "df25 = df25[['Description', 'Cusip', 'WTType']]\n",
    "df25.columns = ['SecurityDescription', 'Cusip', 'WTType']"
   ]
  },
  {
   "cell_type": "code",
   "execution_count": 11,
   "metadata": {},
   "outputs": [],
   "source": [
    "df26 = pd.read_csv(fileList[3], sep=';')"
   ]
  },
  {
   "cell_type": "code",
   "execution_count": 12,
   "metadata": {},
   "outputs": [],
   "source": [
    "df26 = df26[['SecurityDescription', 'Cusip', 'WTType']]"
   ]
  },
  {
   "cell_type": "code",
   "execution_count": 13,
   "metadata": {},
   "outputs": [],
   "source": [
    "df33 = pd.read_csv(fileList[4], sep=';')"
   ]
  },
  {
   "cell_type": "code",
   "execution_count": 14,
   "metadata": {},
   "outputs": [],
   "source": [
    "df33.loc[:,['DescriptionLine1', 'DescriptionLine2',\n",
    "       'DescriptionLine3']] = df33[['DescriptionLine1', 'DescriptionLine2',\n",
    "       'DescriptionLine3']].fillna('')"
   ]
  },
  {
   "cell_type": "code",
   "execution_count": 15,
   "metadata": {},
   "outputs": [],
   "source": [
    "df33['SecurityDescription'] = df33[['DescriptionLine1', 'DescriptionLine2',\n",
    "       'DescriptionLine3']].apply(lambda row: '_'.join(row.values.astype(str)), axis=1)"
   ]
  },
  {
   "cell_type": "code",
   "execution_count": 16,
   "metadata": {},
   "outputs": [],
   "source": [
    "df33 = df33[['SecurityDescription', 'Cusip', 'WTType']]"
   ]
  },
  {
   "cell_type": "code",
   "execution_count": 17,
   "metadata": {},
   "outputs": [],
   "source": [
    "df36 = pd.read_csv(fileList[5], sep=':')"
   ]
  },
  {
   "cell_type": "code",
   "execution_count": 18,
   "metadata": {},
   "outputs": [],
   "source": [
    "df36.loc[:,['SecurityDescription1', 'SecurityDescription2',\n",
    "       'SecurityDescription3', 'SecurityDescription4', 'SecurityDescription5']] = df36[['SecurityDescription1', 'SecurityDescription2',\n",
    "       'SecurityDescription3', 'SecurityDescription4', 'SecurityDescription5']].fillna(' ')"
   ]
  },
  {
   "cell_type": "code",
   "execution_count": 19,
   "metadata": {},
   "outputs": [],
   "source": [
    "df36['SecurityDescription'] = df36[['SecurityDescription1', 'SecurityDescription2',\n",
    "       'SecurityDescription3', 'SecurityDescription4', 'SecurityDescription5']].apply(lambda row: ' '.join(row.values.astype(str)), axis=1)"
   ]
  },
  {
   "cell_type": "code",
   "execution_count": 20,
   "metadata": {},
   "outputs": [],
   "source": [
    "df36 = df36[['SecurityDescription', 'CUSIPNumber', 'WTType']]"
   ]
  },
  {
   "cell_type": "code",
   "execution_count": 21,
   "metadata": {},
   "outputs": [],
   "source": [
    "df36.columns = ['SecurityDescription', 'Cusip', 'WTType']"
   ]
  },
  {
   "cell_type": "code",
   "execution_count": 22,
   "metadata": {},
   "outputs": [
    {
     "data": {
      "text/html": [
       "<div>\n",
       "<style scoped>\n",
       "    .dataframe tbody tr th:only-of-type {\n",
       "        vertical-align: middle;\n",
       "    }\n",
       "\n",
       "    .dataframe tbody tr th {\n",
       "        vertical-align: top;\n",
       "    }\n",
       "\n",
       "    .dataframe thead th {\n",
       "        text-align: right;\n",
       "    }\n",
       "</style>\n",
       "<table border=\"1\" class=\"dataframe\">\n",
       "  <thead>\n",
       "    <tr style=\"text-align: right;\">\n",
       "      <th></th>\n",
       "      <th>SecurityDescription</th>\n",
       "      <th>Cusip</th>\n",
       "      <th>WTType</th>\n",
       "    </tr>\n",
       "  </thead>\n",
       "  <tbody>\n",
       "    <tr>\n",
       "      <th>0</th>\n",
       "      <td>ABBVIE INC</td>\n",
       "      <td>00287Y109</td>\n",
       "      <td>CSUS</td>\n",
       "    </tr>\n",
       "    <tr>\n",
       "      <th>1</th>\n",
       "      <td>ALIBABA GROUP HOLDING-SP ADR</td>\n",
       "      <td>01609W102</td>\n",
       "      <td>ADUS</td>\n",
       "    </tr>\n",
       "    <tr>\n",
       "      <th>2</th>\n",
       "      <td>AMERICAN EXPRESS CO</td>\n",
       "      <td>025816109</td>\n",
       "      <td>CSUS</td>\n",
       "    </tr>\n",
       "    <tr>\n",
       "      <th>3</th>\n",
       "      <td>AMPHENOL CORP-CL A</td>\n",
       "      <td>032095101</td>\n",
       "      <td>CSUS</td>\n",
       "    </tr>\n",
       "    <tr>\n",
       "      <th>4</th>\n",
       "      <td>ANHEUSER-BUSCH INBEV-SPN ADR</td>\n",
       "      <td>03524A108</td>\n",
       "      <td>ADUS</td>\n",
       "    </tr>\n",
       "    <tr>\n",
       "      <th>...</th>\n",
       "      <td>...</td>\n",
       "      <td>...</td>\n",
       "      <td>...</td>\n",
       "    </tr>\n",
       "    <tr>\n",
       "      <th>1799</th>\n",
       "      <td>WISDOMTREE US HIGH DIVIDEND</td>\n",
       "      <td>97717W208</td>\n",
       "      <td>ETUS</td>\n",
       "    </tr>\n",
       "    <tr>\n",
       "      <th>1800</th>\n",
       "      <td>ZOETIS INC</td>\n",
       "      <td>98978V103</td>\n",
       "      <td>CSUS</td>\n",
       "    </tr>\n",
       "    <tr>\n",
       "      <th>1801</th>\n",
       "      <td>ZOETIS INC</td>\n",
       "      <td>98978V103</td>\n",
       "      <td>CSUS</td>\n",
       "    </tr>\n",
       "    <tr>\n",
       "      <th>1802</th>\n",
       "      <td>ROCHE HOLDING AG-GENUSSCHEIN ISIN CH0012032048...</td>\n",
       "      <td>H69293936</td>\n",
       "      <td>CSCH</td>\n",
       "    </tr>\n",
       "    <tr>\n",
       "      <th>1803</th>\n",
       "      <td>ATLAS CORP</td>\n",
       "      <td>Y0436Q158</td>\n",
       "      <td>PSUS</td>\n",
       "    </tr>\n",
       "  </tbody>\n",
       "</table>\n",
       "<p>1804 rows × 3 columns</p>\n",
       "</div>"
      ],
      "text/plain": [
       "                                    SecurityDescription      Cusip WTType\n",
       "0                                    ABBVIE INC          00287Y109   CSUS\n",
       "1                  ALIBABA GROUP HOLDING-SP ADR          01609W102   ADUS\n",
       "2                           AMERICAN EXPRESS CO          025816109   CSUS\n",
       "3                            AMPHENOL CORP-CL A          032095101   CSUS\n",
       "4                  ANHEUSER-BUSCH INBEV-SPN ADR          03524A108   ADUS\n",
       "...                                                 ...        ...    ...\n",
       "1799                WISDOMTREE US HIGH DIVIDEND          97717W208   ETUS\n",
       "1800                                 ZOETIS INC          98978V103   CSUS\n",
       "1801                                 ZOETIS INC          98978V103   CSUS\n",
       "1802  ROCHE HOLDING AG-GENUSSCHEIN ISIN CH0012032048...  H69293936   CSCH\n",
       "1803                                 ATLAS CORP          Y0436Q158   PSUS\n",
       "\n",
       "[1804 rows x 3 columns]"
      ]
     },
     "execution_count": 22,
     "metadata": {},
     "output_type": "execute_result"
    }
   ],
   "source": [
    "df36"
   ]
  },
  {
   "cell_type": "code",
   "execution_count": 36,
   "metadata": {},
   "outputs": [],
   "source": [
    "final = pd.concat([df18,df23,df25,df26,df33,df36])"
   ]
  },
  {
   "cell_type": "code",
   "execution_count": 46,
   "metadata": {},
   "outputs": [],
   "source": [
    "final = final.reset_index(drop=True)"
   ]
  },
  {
   "cell_type": "code",
   "execution_count": 38,
   "metadata": {},
   "outputs": [
    {
     "data": {
      "text/plain": [
       "True"
      ]
     },
     "execution_count": 38,
     "metadata": {},
     "output_type": "execute_result"
    }
   ],
   "source": [
    "\"2\".isnumeric()"
   ]
  },
  {
   "cell_type": "code",
   "execution_count": 39,
   "metadata": {},
   "outputs": [
    {
     "data": {
      "text/plain": [
       "False"
      ]
     },
     "execution_count": 39,
     "metadata": {},
     "output_type": "execute_result"
    }
   ],
   "source": [
    "\"daf2d\".isalpha()"
   ]
  },
  {
   "cell_type": "code",
   "execution_count": 40,
   "metadata": {},
   "outputs": [],
   "source": [
    "def ConvertNumToToken(word):\n",
    "    if word.isalpha():\n",
    "        return word\n",
    "    else:\n",
    "        ret = ''\n",
    "        for char in word:\n",
    "            if char.isalpha():\n",
    "                ret += 'c'\n",
    "            elif char.isnumeric():\n",
    "                ret += 'i'\n",
    "            else:\n",
    "                ret += char\n",
    "        return ret"
   ]
  },
  {
   "cell_type": "code",
   "execution_count": 41,
   "metadata": {},
   "outputs": [],
   "source": [
    "def convertEntries(row):\n",
    "    return \" \".join([ConvertNumToToken(word) for word in row.split()])"
   ]
  },
  {
   "cell_type": "code",
   "execution_count": 54,
   "metadata": {},
   "outputs": [
    {
     "data": {
      "text/plain": [
       "0                                           ALERIAN MLP ETF\n",
       "1                                         ACUITY BRANDS INC\n",
       "2                                      AGILENT TECHNOLOGIES\n",
       "3                                         AGREE REALTY CORP\n",
       "4                                       AIR PROD & CHEM INC\n",
       "                                ...                        \n",
       "292477                          WISDOMTREE US HIGH DIVIDEND\n",
       "292478                                           ZOETIS INC\n",
       "292479                                           ZOETIS INC\n",
       "292480    ROCHE HOLDING cc-ccccccccccc ISIN cciiiiiiiiii...\n",
       "292481                                           ATLAS CORP\n",
       "Name: SecurityDescription, Length: 292482, dtype: object"
      ]
     },
     "execution_count": 54,
     "metadata": {},
     "output_type": "execute_result"
    }
   ],
   "source": [
    "final['SecurityDescription'] = final['SecurityDescription'][:].apply(lambda x: \" \".join([ConvertNumToToken(word) for word in x.split()]))"
   ]
  },
  {
   "cell_type": "code",
   "execution_count": 55,
   "metadata": {},
   "outputs": [
    {
     "data": {
      "text/html": [
       "<div>\n",
       "<style scoped>\n",
       "    .dataframe tbody tr th:only-of-type {\n",
       "        vertical-align: middle;\n",
       "    }\n",
       "\n",
       "    .dataframe tbody tr th {\n",
       "        vertical-align: top;\n",
       "    }\n",
       "\n",
       "    .dataframe thead th {\n",
       "        text-align: right;\n",
       "    }\n",
       "</style>\n",
       "<table border=\"1\" class=\"dataframe\">\n",
       "  <thead>\n",
       "    <tr style=\"text-align: right;\">\n",
       "      <th></th>\n",
       "      <th>Cusip</th>\n",
       "      <th>SecurityDescription</th>\n",
       "      <th>WTType</th>\n",
       "      <th>SecurityDescriptionToken</th>\n",
       "    </tr>\n",
       "  </thead>\n",
       "  <tbody>\n",
       "    <tr>\n",
       "      <th>0</th>\n",
       "      <td>00162Q452</td>\n",
       "      <td>ALERIAN MLP ETF</td>\n",
       "      <td>CSUS</td>\n",
       "      <td>ALERIAN MLP ETF</td>\n",
       "    </tr>\n",
       "    <tr>\n",
       "      <th>1</th>\n",
       "      <td>00508Y102</td>\n",
       "      <td>ACUITY BRANDS INC</td>\n",
       "      <td>CSUS</td>\n",
       "      <td>ACUITY BRANDS INC</td>\n",
       "    </tr>\n",
       "    <tr>\n",
       "      <th>2</th>\n",
       "      <td>00846U101</td>\n",
       "      <td>AGILENT TECHNOLOGIES</td>\n",
       "      <td>CSUS</td>\n",
       "      <td>AGILENT TECHNOLOGIES</td>\n",
       "    </tr>\n",
       "    <tr>\n",
       "      <th>3</th>\n",
       "      <td>008492100</td>\n",
       "      <td>AGREE REALTY CORP</td>\n",
       "      <td>CSUS</td>\n",
       "      <td>AGREE REALTY CORP</td>\n",
       "    </tr>\n",
       "    <tr>\n",
       "      <th>4</th>\n",
       "      <td>009158106</td>\n",
       "      <td>AIR PROD &amp; CHEM INC</td>\n",
       "      <td>CSUS</td>\n",
       "      <td>AIR PROD &amp; CHEM INC</td>\n",
       "    </tr>\n",
       "    <tr>\n",
       "      <th>...</th>\n",
       "      <td>...</td>\n",
       "      <td>...</td>\n",
       "      <td>...</td>\n",
       "      <td>...</td>\n",
       "    </tr>\n",
       "    <tr>\n",
       "      <th>292477</th>\n",
       "      <td>97717W208</td>\n",
       "      <td>WISDOMTREE US HIGH DIVIDEND</td>\n",
       "      <td>ETUS</td>\n",
       "      <td>WISDOMTREE US HIGH DIVIDEND</td>\n",
       "    </tr>\n",
       "    <tr>\n",
       "      <th>292478</th>\n",
       "      <td>98978V103</td>\n",
       "      <td>ZOETIS INC</td>\n",
       "      <td>CSUS</td>\n",
       "      <td>ZOETIS INC</td>\n",
       "    </tr>\n",
       "    <tr>\n",
       "      <th>292479</th>\n",
       "      <td>98978V103</td>\n",
       "      <td>ZOETIS INC</td>\n",
       "      <td>CSUS</td>\n",
       "      <td>ZOETIS INC</td>\n",
       "    </tr>\n",
       "    <tr>\n",
       "      <th>292480</th>\n",
       "      <td>H69293936</td>\n",
       "      <td>ROCHE HOLDING AG-GENUSSCHEIN ISIN CH0012032048...</td>\n",
       "      <td>CSCH</td>\n",
       "      <td>ROCHE HOLDING cc-ccccccccccc ISIN cciiiiiiiiii...</td>\n",
       "    </tr>\n",
       "    <tr>\n",
       "      <th>292481</th>\n",
       "      <td>Y0436Q158</td>\n",
       "      <td>ATLAS CORP</td>\n",
       "      <td>PSUS</td>\n",
       "      <td>ATLAS CORP</td>\n",
       "    </tr>\n",
       "  </tbody>\n",
       "</table>\n",
       "<p>292482 rows × 4 columns</p>\n",
       "</div>"
      ],
      "text/plain": [
       "            Cusip                                SecurityDescription WTType  \\\n",
       "0       00162Q452                                    ALERIAN MLP ETF   CSUS   \n",
       "1       00508Y102                                  ACUITY BRANDS INC   CSUS   \n",
       "2       00846U101                               AGILENT TECHNOLOGIES   CSUS   \n",
       "3       008492100                                  AGREE REALTY CORP   CSUS   \n",
       "4       009158106                                AIR PROD & CHEM INC   CSUS   \n",
       "...           ...                                                ...    ...   \n",
       "292477  97717W208                WISDOMTREE US HIGH DIVIDEND           ETUS   \n",
       "292478  98978V103                                 ZOETIS INC           CSUS   \n",
       "292479  98978V103                                 ZOETIS INC           CSUS   \n",
       "292480  H69293936  ROCHE HOLDING AG-GENUSSCHEIN ISIN CH0012032048...   CSCH   \n",
       "292481  Y0436Q158                                 ATLAS CORP           PSUS   \n",
       "\n",
       "                                 SecurityDescriptionToken  \n",
       "0                                         ALERIAN MLP ETF  \n",
       "1                                       ACUITY BRANDS INC  \n",
       "2                                    AGILENT TECHNOLOGIES  \n",
       "3                                       AGREE REALTY CORP  \n",
       "4                                     AIR PROD & CHEM INC  \n",
       "...                                                   ...  \n",
       "292477                        WISDOMTREE US HIGH DIVIDEND  \n",
       "292478                                         ZOETIS INC  \n",
       "292479                                         ZOETIS INC  \n",
       "292480  ROCHE HOLDING cc-ccccccccccc ISIN cciiiiiiiiii...  \n",
       "292481                                         ATLAS CORP  \n",
       "\n",
       "[292482 rows x 4 columns]"
      ]
     },
     "execution_count": 55,
     "metadata": {},
     "output_type": "execute_result"
    }
   ],
   "source": [
    "final"
   ]
  },
  {
   "cell_type": "code",
   "execution_count": 64,
   "metadata": {},
   "outputs": [],
   "source": [
    "import pandas as pd\n",
    "import numpy as np\n",
    "\n",
    "import lightgbm as lgb\n",
    "from sklearn.metrics import mean_squared_error\n",
    "from sklearn.model_selection import train_test_split\n",
    "from sklearn.metrics import roc_auc_score, log_loss, precision_score\n",
    "from sklearn.preprocessing import LabelEncoder\n",
    "from sklearn.preprocessing import OneHotEncoder\n",
    "import sklearn"
   ]
  },
  {
   "cell_type": "code",
   "execution_count": 70,
   "metadata": {},
   "outputs": [],
   "source": [
    "train_X = np.array(final['SecurityDescriptionToken'])"
   ]
  },
  {
   "cell_type": "code",
   "execution_count": 71,
   "metadata": {},
   "outputs": [],
   "source": [
    "train_y = np.array(final['WTType'].str[:2])"
   ]
  },
  {
   "cell_type": "code",
   "execution_count": 72,
   "metadata": {},
   "outputs": [],
   "source": [
    "label_encode = LabelEncoder()\n",
    "train_y = label_encode.fit_transform(train_y)"
   ]
  },
  {
   "cell_type": "code",
   "execution_count": 73,
   "metadata": {},
   "outputs": [],
   "source": [
    "X_train, X_test, y_train, y_test = train_test_split(train_X, train_y, test_size=0.2, random_state=42)"
   ]
  },
  {
   "cell_type": "code",
   "execution_count": 74,
   "metadata": {},
   "outputs": [
    {
     "data": {
      "text/plain": [
       "(233985, 9436)"
      ]
     },
     "execution_count": 74,
     "metadata": {},
     "output_type": "execute_result"
    }
   ],
   "source": [
    "from sklearn.feature_extraction.text import CountVectorizer\n",
    "count_vect = CountVectorizer()\n",
    "X_train_counts = count_vect.fit_transform(X_train)\n",
    "X_train_counts.shape"
   ]
  },
  {
   "cell_type": "code",
   "execution_count": 75,
   "metadata": {},
   "outputs": [
    {
     "data": {
      "text/plain": [
       "(233985, 9436)"
      ]
     },
     "execution_count": 75,
     "metadata": {},
     "output_type": "execute_result"
    }
   ],
   "source": [
    "from sklearn.feature_extraction.text import TfidfTransformer\n",
    "tfidf_transformer = TfidfTransformer()\n",
    "X_train_tfidf = tfidf_transformer.fit_transform(X_train_counts)\n",
    "X_train_tfidf.shape"
   ]
  },
  {
   "cell_type": "code",
   "execution_count": 95,
   "metadata": {},
   "outputs": [],
   "source": [
    "from sklearn.pipeline import Pipeline\n",
    "text_clf = Pipeline([('vect', CountVectorizer()),\n",
    "                     ('tfidf', TfidfTransformer()),\n",
    "                      ('clf', MultinomialNB()),\n",
    "])\n",
    "\n",
    "text_clf = text_clf.fit(X_train, y_train)"
   ]
  },
  {
   "cell_type": "code",
   "execution_count": 96,
   "metadata": {},
   "outputs": [
    {
     "data": {
      "text/plain": [
       "0.9785117185496692"
      ]
     },
     "execution_count": 96,
     "metadata": {},
     "output_type": "execute_result"
    }
   ],
   "source": [
    "predicted = text_clf.predict(X_test)\n",
    "np.mean(predicted == y_test)"
   ]
  },
  {
   "cell_type": "code",
   "execution_count": 97,
   "metadata": {},
   "outputs": [],
   "source": [
    "from sklearn.pipeline import Pipeline\n",
    "text_clf = Pipeline([('vect', CountVectorizer()),\n",
    "#                      ('tfidf', TfidfTransformer()),\n",
    "                      ('clf', MultinomialNB()),\n",
    "])\n",
    "\n",
    "text_clf = text_clf.fit(X_train, y_train)"
   ]
  },
  {
   "cell_type": "code",
   "execution_count": 98,
   "metadata": {},
   "outputs": [
    {
     "data": {
      "text/plain": [
       "0.9780843462057883"
      ]
     },
     "execution_count": 98,
     "metadata": {},
     "output_type": "execute_result"
    }
   ],
   "source": [
    "predicted = text_clf.predict(X_test)\n",
    "np.mean(predicted == y_test)"
   ]
  },
  {
   "cell_type": "code",
   "execution_count": null,
   "metadata": {},
   "outputs": [],
   "source": []
  },
  {
   "cell_type": "code",
   "execution_count": 86,
   "metadata": {},
   "outputs": [],
   "source": [
    "from sklearn.linear_model import SGDClassifier"
   ]
  },
  {
   "cell_type": "code",
   "execution_count": 87,
   "metadata": {},
   "outputs": [],
   "source": [
    "text_clf_svm = Pipeline([('vect', CountVectorizer()), ('tfidf', TfidfTransformer()),\n",
    "                         ('clf-svm', SGDClassifier(loss='hinge', penalty='l2',alpha=1e-3, max_iter=1000, random_state=42))])"
   ]
  },
  {
   "cell_type": "code",
   "execution_count": 88,
   "metadata": {},
   "outputs": [
    {
     "data": {
      "text/plain": [
       "0.9338598560609945"
      ]
     },
     "execution_count": 88,
     "metadata": {},
     "output_type": "execute_result"
    }
   ],
   "source": [
    "text_clf_svm = text_clf_svm.fit(X_train, y_train)\n",
    "predicted = text_clf_svm.predict(X_test)\n",
    "np.mean(predicted == y_test)"
   ]
  },
  {
   "cell_type": "code",
   "execution_count": 83,
   "metadata": {},
   "outputs": [],
   "source": [
    "from sklearn.model_selection import GridSearchCV\n",
    "parameters = {'vect__ngram_range': [(1, 1), (1, 2)], 'tfidf__use_idf': (True, False), 'clf__alpha': (1e-2, 1e-3)}"
   ]
  },
  {
   "cell_type": "code",
   "execution_count": 89,
   "metadata": {},
   "outputs": [
    {
     "name": "stderr",
     "output_type": "stream",
     "text": [
      "/home/ruilong96/anaconda3/lib/python3.7/site-packages/sklearn/model_selection/_split.py:667: UserWarning: The least populated class in y has only 1 members, which is less than n_splits=5.\n",
      "  % (min_groups, self.n_splits)), UserWarning)\n"
     ]
    }
   ],
   "source": [
    "gs_clf = GridSearchCV(text_clf, parameters, n_jobs=-1)\n",
    "gs_clf = gs_clf.fit(X_train, y_train)"
   ]
  },
  {
   "cell_type": "code",
   "execution_count": 90,
   "metadata": {},
   "outputs": [
    {
     "data": {
      "text/plain": [
       "{'clf__alpha': 0.001, 'tfidf__use_idf': False, 'vect__ngram_range': (1, 2)}"
      ]
     },
     "execution_count": 90,
     "metadata": {},
     "output_type": "execute_result"
    }
   ],
   "source": [
    "gs_clf.best_score_\n",
    "gs_clf.best_params_"
   ]
  },
  {
   "cell_type": "code",
   "execution_count": 99,
   "metadata": {},
   "outputs": [
    {
     "name": "stderr",
     "output_type": "stream",
     "text": [
      "/home/ruilong96/anaconda3/lib/python3.7/site-packages/sklearn/model_selection/_split.py:667: UserWarning: The least populated class in y has only 1 members, which is less than n_splits=5.\n",
      "  % (min_groups, self.n_splits)), UserWarning)\n"
     ]
    },
    {
     "data": {
      "text/plain": [
       "{'clf-svm__alpha': 0.001, 'tfidf__use_idf': True, 'vect__ngram_range': (1, 1)}"
      ]
     },
     "execution_count": 99,
     "metadata": {},
     "output_type": "execute_result"
    }
   ],
   "source": [
    "# Similarly doing grid search for SVM\n",
    "from sklearn.model_selection import GridSearchCV\n",
    "parameters_svm = {'vect__ngram_range': [(1, 1), (1, 2)], 'tfidf__use_idf': (True, False),'clf-svm__alpha': (1e-2, 1e-3)}\n",
    "\n",
    "gs_clf_svm = GridSearchCV(text_clf_svm, parameters_svm, n_jobs=-1)\n",
    "gs_clf_svm = gs_clf_svm.fit(X_train, y_train)\n",
    "\n",
    "\n",
    "gs_clf_svm.best_score_\n",
    "gs_clf_svm.best_params_"
   ]
  },
  {
   "cell_type": "code",
   "execution_count": null,
   "metadata": {},
   "outputs": [],
   "source": []
  }
 ],
 "metadata": {
  "kernelspec": {
   "display_name": "Python 3",
   "language": "python",
   "name": "python3"
  },
  "language_info": {
   "codemirror_mode": {
    "name": "ipython",
    "version": 3
   },
   "file_extension": ".py",
   "mimetype": "text/x-python",
   "name": "python",
   "nbconvert_exporter": "python",
   "pygments_lexer": "ipython3",
   "version": "3.8.3"
  }
 },
 "nbformat": 4,
 "nbformat_minor": 4
}
